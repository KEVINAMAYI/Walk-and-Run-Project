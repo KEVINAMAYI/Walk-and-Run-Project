{
 "cells": [
  {
   "cell_type": "markdown",
   "metadata": {},
   "source": [
    "# Import Packages"
   ]
  },
  {
   "cell_type": "code",
   "execution_count": 2,
   "metadata": {},
   "outputs": [],
   "source": [
    "import matplotlib.pyplot as plt\n",
    "import numpy as np\n",
    "import pandas as pd\n",
    "%matplotlib inline\n"
   ]
  },
  {
   "cell_type": "code",
   "execution_count": 3,
   "metadata": {},
   "outputs": [],
   "source": [
    "#Read csv file\n",
    "walk_run_data = pd.read_csv('run_walk.csv')"
   ]
  },
  {
   "cell_type": "code",
   "execution_count": 4,
   "metadata": {},
   "outputs": [
    {
     "data": {
      "text/html": [
       "<div>\n",
       "<style scoped>\n",
       "    .dataframe tbody tr th:only-of-type {\n",
       "        vertical-align: middle;\n",
       "    }\n",
       "\n",
       "    .dataframe tbody tr th {\n",
       "        vertical-align: top;\n",
       "    }\n",
       "\n",
       "    .dataframe thead th {\n",
       "        text-align: right;\n",
       "    }\n",
       "</style>\n",
       "<table border=\"1\" class=\"dataframe\">\n",
       "  <thead>\n",
       "    <tr style=\"text-align: right;\">\n",
       "      <th></th>\n",
       "      <th>date</th>\n",
       "      <th>time</th>\n",
       "      <th>username</th>\n",
       "      <th>wrist</th>\n",
       "      <th>activity</th>\n",
       "      <th>acceleration_x</th>\n",
       "      <th>acceleration_y</th>\n",
       "      <th>acceleration_z</th>\n",
       "      <th>gyro_x</th>\n",
       "      <th>gyro_y</th>\n",
       "      <th>gyro_z</th>\n",
       "    </tr>\n",
       "  </thead>\n",
       "  <tbody>\n",
       "    <tr>\n",
       "      <th>0</th>\n",
       "      <td>2017-6-30</td>\n",
       "      <td>13:51:15:847724020</td>\n",
       "      <td>viktor</td>\n",
       "      <td>0</td>\n",
       "      <td>0</td>\n",
       "      <td>0.2650</td>\n",
       "      <td>-0.7814</td>\n",
       "      <td>-0.0076</td>\n",
       "      <td>-0.0590</td>\n",
       "      <td>0.0325</td>\n",
       "      <td>-2.9296</td>\n",
       "    </tr>\n",
       "    <tr>\n",
       "      <th>1</th>\n",
       "      <td>2017-6-30</td>\n",
       "      <td>13:51:16:246945023</td>\n",
       "      <td>viktor</td>\n",
       "      <td>0</td>\n",
       "      <td>0</td>\n",
       "      <td>0.6722</td>\n",
       "      <td>-1.1233</td>\n",
       "      <td>-0.2344</td>\n",
       "      <td>-0.1757</td>\n",
       "      <td>0.0208</td>\n",
       "      <td>0.1269</td>\n",
       "    </tr>\n",
       "    <tr>\n",
       "      <th>2</th>\n",
       "      <td>2017-6-30</td>\n",
       "      <td>13:51:16:446233987</td>\n",
       "      <td>viktor</td>\n",
       "      <td>0</td>\n",
       "      <td>0</td>\n",
       "      <td>0.4399</td>\n",
       "      <td>-1.4817</td>\n",
       "      <td>0.0722</td>\n",
       "      <td>-0.9105</td>\n",
       "      <td>0.1063</td>\n",
       "      <td>-2.4367</td>\n",
       "    </tr>\n",
       "    <tr>\n",
       "      <th>3</th>\n",
       "      <td>2017-6-30</td>\n",
       "      <td>13:51:16:646117985</td>\n",
       "      <td>viktor</td>\n",
       "      <td>0</td>\n",
       "      <td>0</td>\n",
       "      <td>0.3031</td>\n",
       "      <td>-0.8125</td>\n",
       "      <td>0.0888</td>\n",
       "      <td>0.1199</td>\n",
       "      <td>-0.4099</td>\n",
       "      <td>-2.9336</td>\n",
       "    </tr>\n",
       "    <tr>\n",
       "      <th>4</th>\n",
       "      <td>2017-6-30</td>\n",
       "      <td>13:51:16:846738994</td>\n",
       "      <td>viktor</td>\n",
       "      <td>0</td>\n",
       "      <td>0</td>\n",
       "      <td>0.4814</td>\n",
       "      <td>-0.9312</td>\n",
       "      <td>0.0359</td>\n",
       "      <td>0.0527</td>\n",
       "      <td>0.4379</td>\n",
       "      <td>2.4922</td>\n",
       "    </tr>\n",
       "  </tbody>\n",
       "</table>\n",
       "</div>"
      ],
      "text/plain": [
       "        date                time username  wrist  activity  acceleration_x  \\\n",
       "0  2017-6-30  13:51:15:847724020   viktor      0         0          0.2650   \n",
       "1  2017-6-30  13:51:16:246945023   viktor      0         0          0.6722   \n",
       "2  2017-6-30  13:51:16:446233987   viktor      0         0          0.4399   \n",
       "3  2017-6-30  13:51:16:646117985   viktor      0         0          0.3031   \n",
       "4  2017-6-30  13:51:16:846738994   viktor      0         0          0.4814   \n",
       "\n",
       "   acceleration_y  acceleration_z  gyro_x  gyro_y  gyro_z  \n",
       "0         -0.7814         -0.0076 -0.0590  0.0325 -2.9296  \n",
       "1         -1.1233         -0.2344 -0.1757  0.0208  0.1269  \n",
       "2         -1.4817          0.0722 -0.9105  0.1063 -2.4367  \n",
       "3         -0.8125          0.0888  0.1199 -0.4099 -2.9336  \n",
       "4         -0.9312          0.0359  0.0527  0.4379  2.4922  "
      ]
     },
     "execution_count": 4,
     "metadata": {},
     "output_type": "execute_result"
    }
   ],
   "source": [
    "#check if file was loaded correctly\n",
    "walk_run_data.head()"
   ]
  },
  {
   "cell_type": "code",
   "execution_count": 5,
   "metadata": {},
   "outputs": [
    {
     "data": {
      "text/html": [
       "<div>\n",
       "<style scoped>\n",
       "    .dataframe tbody tr th:only-of-type {\n",
       "        vertical-align: middle;\n",
       "    }\n",
       "\n",
       "    .dataframe tbody tr th {\n",
       "        vertical-align: top;\n",
       "    }\n",
       "\n",
       "    .dataframe thead th {\n",
       "        text-align: right;\n",
       "    }\n",
       "</style>\n",
       "<table border=\"1\" class=\"dataframe\">\n",
       "  <thead>\n",
       "    <tr style=\"text-align: right;\">\n",
       "      <th></th>\n",
       "      <th>date</th>\n",
       "      <th>time</th>\n",
       "      <th>username</th>\n",
       "      <th>wrist</th>\n",
       "      <th>activity</th>\n",
       "      <th>acceleration_x</th>\n",
       "      <th>acceleration_y</th>\n",
       "      <th>acceleration_z</th>\n",
       "      <th>gyro_x</th>\n",
       "      <th>gyro_y</th>\n",
       "      <th>gyro_z</th>\n",
       "    </tr>\n",
       "  </thead>\n",
       "  <tbody>\n",
       "    <tr>\n",
       "      <th>88583</th>\n",
       "      <td>2017-7-9</td>\n",
       "      <td>20:9:15:317911028</td>\n",
       "      <td>viktor</td>\n",
       "      <td>0</td>\n",
       "      <td>0</td>\n",
       "      <td>0.3084</td>\n",
       "      <td>-0.8376</td>\n",
       "      <td>-0.1327</td>\n",
       "      <td>0.4823</td>\n",
       "      <td>2.0124</td>\n",
       "      <td>0.6048</td>\n",
       "    </tr>\n",
       "    <tr>\n",
       "      <th>88584</th>\n",
       "      <td>2017-7-9</td>\n",
       "      <td>20:9:15:517889022</td>\n",
       "      <td>viktor</td>\n",
       "      <td>0</td>\n",
       "      <td>0</td>\n",
       "      <td>0.4977</td>\n",
       "      <td>-1.0027</td>\n",
       "      <td>-0.4397</td>\n",
       "      <td>0.1022</td>\n",
       "      <td>-1.2565</td>\n",
       "      <td>-0.0761</td>\n",
       "    </tr>\n",
       "    <tr>\n",
       "      <th>88585</th>\n",
       "      <td>2017-7-9</td>\n",
       "      <td>20:9:15:717828989</td>\n",
       "      <td>viktor</td>\n",
       "      <td>0</td>\n",
       "      <td>0</td>\n",
       "      <td>0.4587</td>\n",
       "      <td>-1.1780</td>\n",
       "      <td>-0.2827</td>\n",
       "      <td>-1.4500</td>\n",
       "      <td>-0.2792</td>\n",
       "      <td>-1.2616</td>\n",
       "    </tr>\n",
       "    <tr>\n",
       "      <th>88586</th>\n",
       "      <td>2017-7-9</td>\n",
       "      <td>20:9:15:917932987</td>\n",
       "      <td>viktor</td>\n",
       "      <td>0</td>\n",
       "      <td>0</td>\n",
       "      <td>0.2590</td>\n",
       "      <td>-0.8582</td>\n",
       "      <td>-0.0759</td>\n",
       "      <td>-1.5165</td>\n",
       "      <td>0.4560</td>\n",
       "      <td>-1.7755</td>\n",
       "    </tr>\n",
       "    <tr>\n",
       "      <th>88587</th>\n",
       "      <td>2017-7-9</td>\n",
       "      <td>20:9:16:117410004</td>\n",
       "      <td>viktor</td>\n",
       "      <td>0</td>\n",
       "      <td>0</td>\n",
       "      <td>0.3140</td>\n",
       "      <td>-0.8008</td>\n",
       "      <td>-0.0911</td>\n",
       "      <td>0.1183</td>\n",
       "      <td>1.0850</td>\n",
       "      <td>1.2814</td>\n",
       "    </tr>\n",
       "  </tbody>\n",
       "</table>\n",
       "</div>"
      ],
      "text/plain": [
       "           date               time username  wrist  activity  acceleration_x  \\\n",
       "88583  2017-7-9  20:9:15:317911028   viktor      0         0          0.3084   \n",
       "88584  2017-7-9  20:9:15:517889022   viktor      0         0          0.4977   \n",
       "88585  2017-7-9  20:9:15:717828989   viktor      0         0          0.4587   \n",
       "88586  2017-7-9  20:9:15:917932987   viktor      0         0          0.2590   \n",
       "88587  2017-7-9  20:9:16:117410004   viktor      0         0          0.3140   \n",
       "\n",
       "       acceleration_y  acceleration_z  gyro_x  gyro_y  gyro_z  \n",
       "88583         -0.8376         -0.1327  0.4823  2.0124  0.6048  \n",
       "88584         -1.0027         -0.4397  0.1022 -1.2565 -0.0761  \n",
       "88585         -1.1780         -0.2827 -1.4500 -0.2792 -1.2616  \n",
       "88586         -0.8582         -0.0759 -1.5165  0.4560 -1.7755  \n",
       "88587         -0.8008         -0.0911  0.1183  1.0850  1.2814  "
      ]
     },
     "execution_count": 5,
     "metadata": {},
     "output_type": "execute_result"
    }
   ],
   "source": [
    "walk_run_data.tail()"
   ]
  },
  {
   "cell_type": "code",
   "execution_count": 15,
   "metadata": {},
   "outputs": [
    {
     "name": "stdout",
     "output_type": "stream",
     "text": [
      "<class 'pandas.core.frame.DataFrame'>\n",
      "RangeIndex: 88588 entries, 0 to 88587\n",
      "Data columns (total 11 columns):\n",
      " #   Column          Non-Null Count  Dtype  \n",
      "---  ------          --------------  -----  \n",
      " 0   date            88588 non-null  object \n",
      " 1   time            88588 non-null  object \n",
      " 2   username        88588 non-null  object \n",
      " 3   wrist           88588 non-null  int64  \n",
      " 4   activity        88588 non-null  int64  \n",
      " 5   acceleration_x  88588 non-null  float64\n",
      " 6   acceleration_y  88588 non-null  float64\n",
      " 7   acceleration_z  88588 non-null  float64\n",
      " 8   gyro_x          88588 non-null  float64\n",
      " 9   gyro_y          88588 non-null  float64\n",
      " 10  gyro_z          88588 non-null  float64\n",
      "dtypes: float64(6), int64(2), object(3)\n",
      "memory usage: 7.4+ MB\n"
     ]
    }
   ],
   "source": [
    "#check data types and data length\n",
    "walk_run_data.info()"
   ]
  },
  {
   "cell_type": "code",
   "execution_count": 16,
   "metadata": {},
   "outputs": [
    {
     "data": {
      "text/html": [
       "<div>\n",
       "<style scoped>\n",
       "    .dataframe tbody tr th:only-of-type {\n",
       "        vertical-align: middle;\n",
       "    }\n",
       "\n",
       "    .dataframe tbody tr th {\n",
       "        vertical-align: top;\n",
       "    }\n",
       "\n",
       "    .dataframe thead th {\n",
       "        text-align: right;\n",
       "    }\n",
       "</style>\n",
       "<table border=\"1\" class=\"dataframe\">\n",
       "  <thead>\n",
       "    <tr style=\"text-align: right;\">\n",
       "      <th></th>\n",
       "      <th>wrist</th>\n",
       "      <th>activity</th>\n",
       "      <th>acceleration_x</th>\n",
       "      <th>acceleration_y</th>\n",
       "      <th>acceleration_z</th>\n",
       "      <th>gyro_x</th>\n",
       "      <th>gyro_y</th>\n",
       "      <th>gyro_z</th>\n",
       "    </tr>\n",
       "  </thead>\n",
       "  <tbody>\n",
       "    <tr>\n",
       "      <th>count</th>\n",
       "      <td>88588.000000</td>\n",
       "      <td>88588.000000</td>\n",
       "      <td>88588.000000</td>\n",
       "      <td>88588.000000</td>\n",
       "      <td>88588.000000</td>\n",
       "      <td>88588.000000</td>\n",
       "      <td>88588.000000</td>\n",
       "      <td>88588.000000</td>\n",
       "    </tr>\n",
       "    <tr>\n",
       "      <th>mean</th>\n",
       "      <td>0.522170</td>\n",
       "      <td>0.500801</td>\n",
       "      <td>-0.074811</td>\n",
       "      <td>-0.562585</td>\n",
       "      <td>-0.313956</td>\n",
       "      <td>0.004160</td>\n",
       "      <td>0.037203</td>\n",
       "      <td>0.022327</td>\n",
       "    </tr>\n",
       "    <tr>\n",
       "      <th>std</th>\n",
       "      <td>0.499511</td>\n",
       "      <td>0.500002</td>\n",
       "      <td>1.009299</td>\n",
       "      <td>0.658458</td>\n",
       "      <td>0.486815</td>\n",
       "      <td>1.253423</td>\n",
       "      <td>1.198725</td>\n",
       "      <td>1.914423</td>\n",
       "    </tr>\n",
       "    <tr>\n",
       "      <th>min</th>\n",
       "      <td>0.000000</td>\n",
       "      <td>0.000000</td>\n",
       "      <td>-5.350500</td>\n",
       "      <td>-3.299000</td>\n",
       "      <td>-3.753800</td>\n",
       "      <td>-4.430600</td>\n",
       "      <td>-7.464700</td>\n",
       "      <td>-9.480000</td>\n",
       "    </tr>\n",
       "    <tr>\n",
       "      <th>25%</th>\n",
       "      <td>0.000000</td>\n",
       "      <td>0.000000</td>\n",
       "      <td>-0.381800</td>\n",
       "      <td>-1.033500</td>\n",
       "      <td>-0.376000</td>\n",
       "      <td>-0.920700</td>\n",
       "      <td>-0.644825</td>\n",
       "      <td>-1.345125</td>\n",
       "    </tr>\n",
       "    <tr>\n",
       "      <th>50%</th>\n",
       "      <td>1.000000</td>\n",
       "      <td>1.000000</td>\n",
       "      <td>-0.059500</td>\n",
       "      <td>-0.759100</td>\n",
       "      <td>-0.221000</td>\n",
       "      <td>0.018700</td>\n",
       "      <td>0.039300</td>\n",
       "      <td>0.006900</td>\n",
       "    </tr>\n",
       "    <tr>\n",
       "      <th>75%</th>\n",
       "      <td>1.000000</td>\n",
       "      <td>1.000000</td>\n",
       "      <td>0.355500</td>\n",
       "      <td>-0.241775</td>\n",
       "      <td>-0.085900</td>\n",
       "      <td>0.888800</td>\n",
       "      <td>0.733700</td>\n",
       "      <td>1.398200</td>\n",
       "    </tr>\n",
       "    <tr>\n",
       "      <th>max</th>\n",
       "      <td>1.000000</td>\n",
       "      <td>1.000000</td>\n",
       "      <td>5.603300</td>\n",
       "      <td>2.668000</td>\n",
       "      <td>1.640300</td>\n",
       "      <td>4.874200</td>\n",
       "      <td>8.498000</td>\n",
       "      <td>11.266200</td>\n",
       "    </tr>\n",
       "  </tbody>\n",
       "</table>\n",
       "</div>"
      ],
      "text/plain": [
       "              wrist      activity  acceleration_x  acceleration_y  \\\n",
       "count  88588.000000  88588.000000    88588.000000    88588.000000   \n",
       "mean       0.522170      0.500801       -0.074811       -0.562585   \n",
       "std        0.499511      0.500002        1.009299        0.658458   \n",
       "min        0.000000      0.000000       -5.350500       -3.299000   \n",
       "25%        0.000000      0.000000       -0.381800       -1.033500   \n",
       "50%        1.000000      1.000000       -0.059500       -0.759100   \n",
       "75%        1.000000      1.000000        0.355500       -0.241775   \n",
       "max        1.000000      1.000000        5.603300        2.668000   \n",
       "\n",
       "       acceleration_z        gyro_x        gyro_y        gyro_z  \n",
       "count    88588.000000  88588.000000  88588.000000  88588.000000  \n",
       "mean        -0.313956      0.004160      0.037203      0.022327  \n",
       "std          0.486815      1.253423      1.198725      1.914423  \n",
       "min         -3.753800     -4.430600     -7.464700     -9.480000  \n",
       "25%         -0.376000     -0.920700     -0.644825     -1.345125  \n",
       "50%         -0.221000      0.018700      0.039300      0.006900  \n",
       "75%         -0.085900      0.888800      0.733700      1.398200  \n",
       "max          1.640300      4.874200      8.498000     11.266200  "
      ]
     },
     "execution_count": 16,
     "metadata": {},
     "output_type": "execute_result"
    }
   ],
   "source": [
    "#check data summary\n",
    "walk_run_data.describe()"
   ]
  },
  {
   "cell_type": "markdown",
   "metadata": {},
   "source": [
    "# Data Cleaning"
   ]
  },
  {
   "cell_type": "code",
   "execution_count": 6,
   "metadata": {},
   "outputs": [
    {
     "data": {
      "text/plain": [
       "date              0\n",
       "time              0\n",
       "username          0\n",
       "wrist             0\n",
       "activity          0\n",
       "acceleration_x    0\n",
       "acceleration_y    0\n",
       "acceleration_z    0\n",
       "gyro_x            0\n",
       "gyro_y            0\n",
       "gyro_z            0\n",
       "dtype: int64"
      ]
     },
     "execution_count": 6,
     "metadata": {},
     "output_type": "execute_result"
    }
   ],
   "source": [
    "#check for black columns\n",
    "walk_run_data.apply(lambda x: sum(x.isnull()),axis=0)\n",
    "# =>our data is pretty clean"
   ]
  },
  {
   "cell_type": "code",
   "execution_count": 9,
   "metadata": {},
   "outputs": [],
   "source": [
    "#x values\n",
    "features = ['acceleration_x','acceleration_y','acceleration_z','gyro_x','gyro_y','gyro_z'] \n",
    "X = walk_run_data[features]\n",
    "\n",
    "#Y values\n",
    "y= walk_run_data['activity']"
   ]
  },
  {
   "cell_type": "markdown",
   "metadata": {},
   "source": [
    "# Model Planning"
   ]
  },
  {
   "cell_type": "code",
   "execution_count": 10,
   "metadata": {},
   "outputs": [],
   "source": [
    "# split train and test data\n",
    "from sklearn.model_selection import train_test_split\n",
    "\n",
    "train_X,test_X,train_y,test_y = train_test_split(X,y,test_size = 0.2 , random_state = 1)"
   ]
  },
  {
   "cell_type": "code",
   "execution_count": 11,
   "metadata": {},
   "outputs": [
    {
     "name": "stdout",
     "output_type": "stream",
     "text": [
      "(70870, 6)\n",
      "(70870,)\n"
     ]
    }
   ],
   "source": [
    "#check traing data shape\n",
    "print(train_X.shape)\n",
    "print(train_y.shape)"
   ]
  },
  {
   "cell_type": "code",
   "execution_count": 12,
   "metadata": {},
   "outputs": [
    {
     "name": "stdout",
     "output_type": "stream",
     "text": [
      "(17718, 6)\n",
      "(17718,)\n"
     ]
    }
   ],
   "source": [
    "#check test data shape\n",
    "print(test_X.shape)\n",
    "print(test_y.shape)"
   ]
  },
  {
   "cell_type": "markdown",
   "metadata": {},
   "source": [
    "# Model Building using Naive Bayes Algorithm"
   ]
  },
  {
   "cell_type": "code",
   "execution_count": 18,
   "metadata": {},
   "outputs": [],
   "source": [
    "#import naive bayes algorithm\n",
    "from sklearn.naive_bayes import GaussianNB\n",
    "\n",
    "classifier = GaussianNB()"
   ]
  },
  {
   "cell_type": "code",
   "execution_count": 19,
   "metadata": {},
   "outputs": [
    {
     "data": {
      "text/plain": [
       "GaussianNB(priors=None, var_smoothing=1e-09)"
      ]
     },
     "execution_count": 19,
     "metadata": {},
     "output_type": "execute_result"
    }
   ],
   "source": [
    "#train model\n",
    "classifier.fit(train_X,train_y)"
   ]
  },
  {
   "cell_type": "code",
   "execution_count": 20,
   "metadata": {},
   "outputs": [],
   "source": [
    "#predict using the test data\n",
    "y_predict = classifier.predict(test_X)"
   ]
  },
  {
   "cell_type": "code",
   "execution_count": 22,
   "metadata": {},
   "outputs": [
    {
     "name": "stdout",
     "output_type": "stream",
     "text": [
      "0.9554690145614629\n"
     ]
    }
   ],
   "source": [
    "#check model accuracy\n",
    "from sklearn.metrics import accuracy_score\n",
    "\n",
    "accuracy = accuracy_score(y_predict,test_y)\n",
    "print(accuracy)"
   ]
  },
  {
   "cell_type": "code",
   "execution_count": 24,
   "metadata": {},
   "outputs": [
    {
     "name": "stdout",
     "output_type": "stream",
     "text": [
      "[[8583  699]\n",
      " [  90 8346]]\n"
     ]
    }
   ],
   "source": [
    "# create a confusion matrix and classification report\n",
    "from sklearn.metrics import confusion_matrix\n",
    "\n",
    "conf_mat = confusion_matrix(y_predict,test_y)\n",
    "print(conf_mat) \n",
    "\n",
    "# Calculating the accuracy from confusin matrix\n",
    "# 1 - (90 + 699)/(8583 + 8346) = 0.95... => You get same value as our accuracy code"
   ]
  },
  {
   "cell_type": "code",
   "execution_count": 25,
   "metadata": {},
   "outputs": [
    {
     "name": "stdout",
     "output_type": "stream",
     "text": [
      "              precision    recall  f1-score   support\n",
      "\n",
      "        Walk       0.92      0.99      0.96      8673\n",
      "         Run       0.99      0.92      0.95      9045\n",
      "\n",
      "    accuracy                           0.96     17718\n",
      "   macro avg       0.96      0.96      0.96     17718\n",
      "weighted avg       0.96      0.96      0.96     17718\n",
      "\n"
     ]
    }
   ],
   "source": [
    "#classification report\n",
    "from sklearn.metrics import classification_report\n",
    "\n",
    "labels = ['Walk','Run']\n",
    "\n",
    "print(classification_report(test_y,y_predict,target_names=labels))"
   ]
  },
  {
   "cell_type": "markdown",
   "metadata": {},
   "source": [
    "# Our Model is Really Good with an accuracy of 95 to 96 %"
   ]
  },
  {
   "cell_type": "code",
   "execution_count": null,
   "metadata": {},
   "outputs": [],
   "source": []
  }
 ],
 "metadata": {
  "kernelspec": {
   "display_name": "Python 3",
   "language": "python",
   "name": "python3"
  },
  "language_info": {
   "codemirror_mode": {
    "name": "ipython",
    "version": 3
   },
   "file_extension": ".py",
   "mimetype": "text/x-python",
   "name": "python",
   "nbconvert_exporter": "python",
   "pygments_lexer": "ipython3",
   "version": "3.7.6"
  }
 },
 "nbformat": 4,
 "nbformat_minor": 4
}
